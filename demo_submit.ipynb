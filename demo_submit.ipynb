{
 "cells": [
  {
   "cell_type": "code",
   "execution_count": 1,
   "metadata": {},
   "outputs": [],
   "source": [
    "from data_submit import *"
   ]
  },
  {
   "cell_type": "code",
   "execution_count": 2,
   "metadata": {},
   "outputs": [],
   "source": [
    "# Step 1: generate the meta information for training and test set for Tumor-CIFAR version 1.\n",
    "# -----------------------\n",
    "get_csv_v1('/path/to/original/cifar/dataset/test', \n",
    "           '/path/to/our/tumored/cifar/dataset/v1/test.csv')\n",
    "\n",
    "get_csv_v1('/path/to/original/cifar/dataset/train', \n",
    "           '/path/to/our/tumored/cifar/dataset/v1/train.csv')"
   ]
  },
  {
   "cell_type": "code",
   "execution_count": null,
   "metadata": {},
   "outputs": [],
   "source": [
    "# Step 1: generate the meta information for training and test set for Tumor-CIFAR version 2.\n",
    "# -----------------------\n",
    "get_csv_v2('/path/to/original/cifar/dataset/test', \n",
    "           '/path/to/our/tumored/cifar/dataset/v2/test.csv')\n",
    "\n",
    "get_csv_v2('/path/to/original/cifar/dataset/train', \n",
    "           '/path/to/our/tumored/cifar/dataset/v2/train.csv')"
   ]
  },
  {
   "cell_type": "code",
   "execution_count": null,
   "metadata": {},
   "outputs": [],
   "source": [
    "# Step 2: generate image.\n",
    "# -----------------------\n",
    "sp_prob = 0.05\n",
    "phase = 'train'  # or \"test\"\n",
    "get_nodule_img(data_root = '/path/to/original/cifar/dataset/' + phase, \n",
    "                  csv_path = '/information/csv/path/generated/from/step1', \n",
    "                  save_root = '/save/root/path/for/tumor-cifar/' + phase, \n",
    "            sp_prob = sp_prob)"
   ]
  }
 ],
 "metadata": {
  "kernelspec": {
   "display_name": "Python [conda env:python36]",
   "language": "python",
   "name": "conda-env-python36-py"
  },
  "language_info": {
   "codemirror_mode": {
    "name": "ipython",
    "version": 3
   },
   "file_extension": ".py",
   "mimetype": "text/x-python",
   "name": "python",
   "nbconvert_exporter": "python",
   "pygments_lexer": "ipython3",
   "version": "3.6.6"
  }
 },
 "nbformat": 4,
 "nbformat_minor": 2
}
